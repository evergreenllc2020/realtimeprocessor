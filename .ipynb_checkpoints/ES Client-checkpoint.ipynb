{
 "cells": [
  {
   "cell_type": "code",
   "execution_count": 1,
   "metadata": {},
   "outputs": [],
   "source": [
    "from datetime import datetime\n",
    "from elasticsearch import Elasticsearch\n"
   ]
  },
  {
   "cell_type": "code",
   "execution_count": 5,
   "metadata": {},
   "outputs": [
    {
     "name": "stdout",
     "output_type": "stream",
     "text": [
      "Got 3508 Hits:\n",
      "RT @nds_wa: A dedicated phone line and email address for WA disability service providers seeking urgent information and assistance as a res…\n",
      "RT @gatewaypundit: THIS IS NOT RIGHT-->  CDC Tells Hospitals to List COVID-19 as Cause of Death Even if It's \"Assumed to Have Caused Or Con…\n",
      "RT @kimbuay3: อยากแนะนำให้รัฐบาลไทยเปลี่ยนมุมมองที่มีต่อ COVID-19 \n",
      "\n",
      "โดยแทนที่จะมองว่า COVID-19 คือเชื้อโรค \n",
      "\n",
      "ให้มองใหม่ ว่ามันคือพรรคอนาคตใ…\n",
      "RT @ThaiPBS: ชวนคุยวันหยุด ถ้า COVID-19 หมดไป  สิ่งแรกที่ แฟน ๆ จะทำคืออะไรคะ #ThaiPBS\n",
      "RT @roycanivel_inq: Shopee has donated 3,000 COVID-19 test kits and 100,000 masks with the office of Senator Bong Go. \n",
      "\n",
      "When we asked for a…\n",
      "RT @nayibbukele: En esta ocasión preferiría no haberla tenido.\n",
      "\n",
      "Como quisiera también estar equivocado sobre lo que viene para Latinoaméric…\n",
      "RT @songkietchartwa: ผมเชื่อว่า จากเหตุการณ์ COVID-19 ครั้งนี้ จะทำให้คนไทยรู้ว่า \n",
      "หนึ่ง งบประมาณทางด้านสาธารณสุขสำคัญ มากกว่างบทางด้านทหาร…\n",
      "Indonesia sudah melakukan banyak cara usir #COVID19 dari: tarian ubur-ubur, baca doa Qunut, berjemur matahari, makan nasi kucing, makan taoge, diskon tiket, sewa buzzeRp, dst.\n",
      "\n",
      "Modi Minta Warga India Usir Covid-19 dengan Cahaya https://t.co/ETc3lmhqhT\n",
      "RT @H_Abanto: Y ahora, señor ministro de Justicia, seguirá barriendo bajo la alfombra el peligro de contagio de la población de alto riesgo…\n",
      "Muy lamentable, eso no se merecen los guayaquileños. Pero la gente hasta en estos temas busca enriquecerse, un ataúd cuesta ahora hasta $1500 en GYE.\n"
     ]
    }
   ],
   "source": [
    "es = Elasticsearch()\n",
    "res = es.search(index=\"twitter\", body={\"query\": {\"match_all\": {}}})\n",
    "print(\"Got %d Hits:\" % res['hits']['total']['value'])\n",
    "for hit in res['hits']['hits']:\n",
    "    print(hit[\"_source\"][\"tweet\"])"
   ]
  },
  {
   "cell_type": "code",
   "execution_count": null,
   "metadata": {},
   "outputs": [],
   "source": []
  }
 ],
 "metadata": {
  "kernelspec": {
   "display_name": "Python 3",
   "language": "python",
   "name": "python3"
  },
  "language_info": {
   "codemirror_mode": {
    "name": "ipython",
    "version": 3
   },
   "file_extension": ".py",
   "mimetype": "text/x-python",
   "name": "python",
   "nbconvert_exporter": "python",
   "pygments_lexer": "ipython3",
   "version": "3.6.9"
  }
 },
 "nbformat": 4,
 "nbformat_minor": 2
}
