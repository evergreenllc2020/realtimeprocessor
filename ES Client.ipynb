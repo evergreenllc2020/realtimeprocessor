{
 "cells": [
  {
   "cell_type": "code",
   "execution_count": 1,
   "metadata": {},
   "outputs": [],
   "source": [
    "from datetime import datetime\n",
    "from elasticsearch import Elasticsearch\n"
   ]
  },
  {
   "cell_type": "code",
   "execution_count": 14,
   "metadata": {},
   "outputs": [
    {
     "name": "stdout",
     "output_type": "stream",
     "text": [
      "Got 295 Hits:\n",
      "corona\n",
      "coronavirus\n",
      "covid19\n",
      "9pm9minute\n",
      "nizamuddinmarkaj\n",
      "quarantine\n",
      "lebihbaikdirumahaja\n",
      "indiafightscorona\n",
      "संस्कृति_अपनाओ_कोरोना_भगाओ\n",
      "covid2019\n"
     ]
    }
   ],
   "source": [
    "es = Elasticsearch()\n",
    "#res = es.search(index=\"twitter\", body={\"query\": {\"match_all\": {}}})\n",
    "keyword=\"virus\"\n",
    "res = es.search(index=\"twitter\", body={\"query\": {\"match\" :\n",
    "\t\t{\n",
    "\t\t\t\"tweet\":keyword\n",
    "\t\t}}})\n",
    "\n",
    "res2 = es.search(index=\"hashtag\", body={\"query\" : \n",
    "\t{\n",
    "\t\t\"match_all\" :{}\n",
    "\t},\n",
    "\t\"sort\" : {\n",
    "        \"count\": {\"order\": \"desc\"}\n",
    "    }})\n",
    "\n",
    "\t\n",
    "\n",
    "print(\"Got %d Hits:\" % res2['hits']['total']['value'])\n",
    "for hit in res2['hits']['hits']:\n",
    "    print(hit[\"_source\"][\"hashtag\"])"
   ]
  },
  {
   "cell_type": "code",
   "execution_count": null,
   "metadata": {},
   "outputs": [],
   "source": []
  }
 ],
 "metadata": {
  "kernelspec": {
   "display_name": "Python 3",
   "language": "python",
   "name": "python3"
  },
  "language_info": {
   "codemirror_mode": {
    "name": "ipython",
    "version": 3
   },
   "file_extension": ".py",
   "mimetype": "text/x-python",
   "name": "python",
   "nbconvert_exporter": "python",
   "pygments_lexer": "ipython3",
   "version": "3.6.9"
  }
 },
 "nbformat": 4,
 "nbformat_minor": 2
}
